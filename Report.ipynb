{
 "cells": [
  {
   "cell_type": "markdown",
   "metadata": {},
   "source": [
    "# Navigation Project Solution\n"
   ]
  },
  {
   "cell_type": "code",
   "execution_count": 1,
   "metadata": {},
   "outputs": [],
   "source": [
    "#import the unity enviroment\n",
    "from unityagents import UnityEnvironment\n",
    "#numpy as torch imput\n",
    "import numpy as np\n",
    "from collections import deque\n",
    "#Be able to plot data\n",
    "import matplotlib.pyplot as plt\n",
    "#to save pytorch model\n",
    "import torch"
   ]
  },
  {
   "cell_type": "markdown",
   "metadata": {},
   "source": [
    "Next, we will start the environment!  **_Before running the code cell below_**, change the `file_name` parameter to match the location of the Unity environment that you downloaded.\n",
    "\n",
    "- **Mac**: `\"path/to/Banana.app\"`\n",
    "- **Windows** (x86): `\"path/to/Banana_Windows_x86/Banana.exe\"`\n",
    "- **Windows** (x86_64): `\"path/to/Banana_Windows_x86_64/Banana.exe\"`\n",
    "- **Linux** (x86): `\"path/to/Banana_Linux/Banana.x86\"`\n",
    "- **Linux** (x86_64): `\"path/to/Banana_Linux/Banana.x86_64\"`\n",
    "- **Linux** (x86, headless): `\"path/to/Banana_Linux_NoVis/Banana.x86\"`\n",
    "- **Linux** (x86_64, headless): `\"path/to/Banana_Linux_NoVis/Banana.x86_64\"`\n",
    "\n",
    "For instance, if you are using a Mac, then you downloaded `Banana.app`.  If this file is in the same folder as the notebook, then the line below should appear as follows:\n",
    "```\n",
    "env = UnityEnvironment(file_name=\"Banana.app\")\n",
    "```"
   ]
  },
  {
   "cell_type": "code",
   "execution_count": 2,
   "metadata": {},
   "outputs": [
    {
     "name": "stderr",
     "output_type": "stream",
     "text": [
      "INFO:unityagents:\n",
      "'Academy' started successfully!\n",
      "Unity Academy name: Academy\n",
      "        Number of Brains: 1\n",
      "        Number of External Brains : 1\n",
      "        Lesson number : 0\n",
      "        Reset Parameters :\n",
      "\t\t\n",
      "Unity brain name: BananaBrain\n",
      "        Number of Visual Observations (per agent): 0\n",
      "        Vector Observation space type: continuous\n",
      "        Vector Observation space size (per agent): 37\n",
      "        Number of stacked Vector Observation: 1\n",
      "        Vector Action space type: discrete\n",
      "        Vector Action space size (per agent): 4\n",
      "        Vector Action descriptions: , , , \n"
     ]
    }
   ],
   "source": [
    "env = UnityEnvironment(file_name=\"Banana_Linux/Banana.x86_64\")"
   ]
  },
  {
   "cell_type": "markdown",
   "metadata": {},
   "source": [
    "Environments contain **_brains_** which are responsible for deciding the actions of their associated agents. Here we check for the first brain available, and set it as the default brain we will be controlling from Python."
   ]
  },
  {
   "cell_type": "code",
   "execution_count": 3,
   "metadata": {},
   "outputs": [],
   "source": [
    "# get the default brain\n",
    "brain_name = env.brain_names[0]\n",
    "brain = env.brains[brain_name]"
   ]
  },
  {
   "cell_type": "markdown",
   "metadata": {},
   "source": [
    "### 2. Examine the State and Action Spaces\n",
    "\n",
    "The simulation contains a single agent that navigates a large environment.  At each time step, it has four actions at its disposal:\n",
    "- `0` - walk forward \n",
    "- `1` - walk backward\n",
    "- `2` - turn left\n",
    "- `3` - turn right\n",
    "\n",
    "The state space has `37` dimensions and contains the agent's velocity, along with ray-based perception of objects around agent's forward direction.  A reward of `+1` is provided for collecting a yellow banana, and a reward of `-1` is provided for collecting a blue banana. \n",
    "\n",
    "Run the code cell below to print some information about the environment."
   ]
  },
  {
   "cell_type": "code",
   "execution_count": 4,
   "metadata": {},
   "outputs": [
    {
     "name": "stdout",
     "output_type": "stream",
     "text": [
      "Number of agents: 1\n",
      "Number of actions: 4\n",
      "States look like: [1.         0.         0.         0.         0.84408134 0.\n",
      " 0.         1.         0.         0.0748472  0.         1.\n",
      " 0.         0.         0.25755    1.         0.         0.\n",
      " 0.         0.74177343 0.         1.         0.         0.\n",
      " 0.25854847 0.         0.         1.         0.         0.09355672\n",
      " 0.         1.         0.         0.         0.31969345 0.\n",
      " 0.        ]\n",
      "States have length: 37\n"
     ]
    }
   ],
   "source": [
    "# reset the environment\n",
    "env_info = env.reset(train_mode=True)[brain_name]\n",
    "\n",
    "# number of agents in the environment\n",
    "print('Number of agents:', len(env_info.agents))\n",
    "\n",
    "# number of actions\n",
    "action_size = brain.vector_action_space_size\n",
    "print('Number of actions:', action_size)\n",
    "\n",
    "# examine the state space \n",
    "state = env_info.vector_observations[0]\n",
    "print('States look like:', state)\n",
    "state_size = len(state)\n",
    "print('States have length:', state_size)"
   ]
  },
  {
   "cell_type": "markdown",
   "metadata": {},
   "source": [
    "### 3. Take Random Actions in the Environment\n",
    "\n",
    "In the next code cell, you will learn how to use the Python API to control the agent and receive feedback from the environment.\n",
    "\n",
    "Once this cell is executed, you will watch the agent's performance, if it selects an action (uniformly) at random with each time step.  A window should pop up that allows you to observe the agent, as it moves through the environment.  "
   ]
  },
  {
   "cell_type": "code",
   "execution_count": 5,
   "metadata": {},
   "outputs": [
    {
     "name": "stdout",
     "output_type": "stream",
     "text": [
      "Score: 0.0\n"
     ]
    }
   ],
   "source": [
    "env_info = env.reset(train_mode=False)[brain_name] # reset the environment\n",
    "state = env_info.vector_observations[0]            # get the current state\n",
    "score = 0                                          # initialize the score\n",
    "while True:\n",
    "    action = np.random.randint(action_size)        # select an action\n",
    "    env_info = env.step(action)[brain_name]        # send the action to the environment\n",
    "    next_state = env_info.vector_observations[0]   # get the next state\n",
    "    reward = env_info.rewards[0]                   # get the reward\n",
    "    done = env_info.local_done[0]                  # see if episode has finished\n",
    "    score += reward                                # update the score\n",
    "    state = next_state                             # roll over the state to next time step\n",
    "    if done:                                       # exit loop if episode finished\n",
    "        break\n",
    "    \n",
    "print(\"Score: {}\".format(score))"
   ]
  },
  {
   "cell_type": "markdown",
   "metadata": {},
   "source": [
    "When finished, you can close the environment."
   ]
  },
  {
   "cell_type": "code",
   "execution_count": 6,
   "metadata": {},
   "outputs": [],
   "source": [
    "env.close()"
   ]
  },
  {
   "cell_type": "markdown",
   "metadata": {},
   "source": [
    "### 4. My implementation\n",
    "\n",
    "I started using my solution to the dqn module and found might end up with more than 13 average score.\n",
    "\n",
    "When training the environment, set `train_mode=True`, so that the line for resetting the environment looks like the following:\n",
    "```python\n",
    "env_info = env.reset(train_mode=True)[brain_name]\n",
    "```"
   ]
  },
  {
   "cell_type": "markdown",
   "metadata": {},
   "source": [
    "## Below it can be found the code that will be used to train the agent. First pytorch choosen arquitecture and second agent definition"
   ]
  },
  {
   "cell_type": "code",
   "execution_count": 18,
   "metadata": {},
   "outputs": [
    {
     "name": "stdout",
     "output_type": "stream",
     "text": [
      "#Used model from deep Q netwrok excercise with few modifications\n",
      "#Import all torch necessary\n",
      "import torch\n",
      "import torch.nn as nn\n",
      "import torch.nn.functional as F\n",
      "\n",
      "class QNetwork(nn.Module):\n",
      "    \"\"\"Actor (Policy) Model.\"\"\"\n",
      "\n",
      "    def __init__(self, state_size, action_size, seed, fc_units= [64, 64]):\n",
      "        \"\"\"Initialize parameters and build model.\n",
      "        Params\n",
      "        ======\n",
      "            state_size (int): Number of states\n",
      "            action_size (int): Number of actions\n",
      "            seed (int): Random seed\n",
      "            fc1_units (int): Number of units in first hidden layer\n",
      "            fc2_units (int): Number of units in second hidden layer\n",
      "        \"\"\"\n",
      "        #allows us to access methods from base class\n",
      "        super(QNetwork, self).__init__()\n",
      "        #Set the seed in our neural net\n",
      "        self.seed = torch.manual_seed(seed)\n",
      "        #Fully connected layers from state (fc1) to actions (fc3)\n",
      "        self.fc1 = nn.Linear(state_size, fc_units[0])\n",
      "        self.fc2 = nn.Linear(fc_units[0], fc_units[1])\n",
      "        self.fc3 = nn.Linear(fc_units[1], action_size)\n",
      "\n",
      "    def forward(self, x):\n",
      "        \"\"\"Build a network that maps state to action values.\"\"\"\n",
      "        x = self.fc1(x) \n",
      "        x = F.relu(x)\n",
      "        x = self.fc2(x)\n",
      "        x = F.relu(x)\n",
      "        x = self.fc3(x)\n",
      "        return(x)"
     ]
    }
   ],
   "source": [
    "! cat model.py"
   ]
  },
  {
   "cell_type": "code",
   "execution_count": 17,
   "metadata": {},
   "outputs": [
    {
     "name": "stdout",
     "output_type": "stream",
     "text": [
      "import numpy as np\n",
      "import random\n",
      "from collections import namedtuple, deque\n",
      "\n",
      "from model import QNetwork\n",
      "\n",
      "import torch\n",
      "import torch.nn.functional as F\n",
      "import torch.optim as optim\n",
      "\n",
      "BUFFER_SIZE = int(1e5)  # replay buffer size\n",
      "BATCH_SIZE = 64         # minibatch size\n",
      "GAMMA = 0.99            # discount factor\n",
      "TAU = 1e-3              # for soft update of target parameters\n",
      "LR = 0.0001             # learning rate, tried different learning rates and 0.0001 works best\n",
      "UPDATE_EVERY = 5        # how often to update the network\n",
      "\n",
      "#This will use GPU if found, otherwise will use cpu\n",
      "device = torch.device(\"cuda:0\" if torch.cuda.is_available() else \"cpu\")\n",
      "\n",
      "class Agent():\n",
      "\n",
      "    def __init__(self, state_size, action_size, seed):\n",
      "        \"\"\"Initialize an Agent object.\n",
      "        \n",
      "        Params\n",
      "        ======\n",
      "            state_size (int): Number of states\n",
      "            action_size (int): Number of actions\n",
      "            seed (int): random seed\n",
      "        \"\"\"\n",
      "        self.state_size = state_size\n",
      "        self.action_size = action_size\n",
      "        self.seed = random.seed(seed)\n",
      "\n",
      "        # Q-Network local and target\n",
      "        self.qnetwork_local = QNetwork(state_size, action_size, seed).to(device)\n",
      "        self.qnetwork_target = QNetwork(state_size, action_size, seed).to(device)\n",
      "        #to optimize model Qnetwork, you might try using other optimizer\n",
      "        self.optimizer = optim.Adam(self.qnetwork_local.parameters(), lr=LR)\n",
      "\n",
      "        # Replay memory check class for more information\n",
      "        self.memory = ReplayBuffer(action_size, BUFFER_SIZE, BATCH_SIZE, seed)\n",
      "        # Initialize time step (for updating every UPDATE_EVERY steps)\n",
      "        self.t_step = 0\n",
      "    \n",
      "    def step(self, state, action, reward, next_state, done):\n",
      "        # When calling add save experience in replay memory\n",
      "        self.memory.add(state, action, reward, next_state, done)\n",
      "        \n",
      "        # Learn every 5 time steps (UPDATE_EVERY)\n",
      "        self.t_step = (self.t_step + 1) % UPDATE_EVERY\n",
      "        if self.t_step == 0:\n",
      "            # If enough samples are available in memory, get random subset and learn\n",
      "            if len(self.memory) > BATCH_SIZE:\n",
      "                #take sample from the replay buffer memory\n",
      "                experiences = self.memory.sample()\n",
      "                #Use learn function to learn from prevoius sample\n",
      "                self.learn(experiences, GAMMA)\n",
      "\n",
      "    def act(self, state, eps=0.):\n",
      "        \"\"\"Returns actions for given state as current policy.\n",
      "        \n",
      "        Params\n",
      "        ======\n",
      "            state (array_like): current state\n",
      "            eps (float): epsilon, for epsilon-greedy action selection\n",
      "        \"\"\"\n",
      "        #make state input according to torch\n",
      "        state = torch.from_numpy(state).float().unsqueeze(0).to(device)\n",
      "        self.qnetwork_local.eval()\n",
      "        #Context-manager that disabled gradient calculation.\n",
      "        with torch.no_grad():\n",
      "            #The action value\n",
      "            action_values = self.qnetwork_local(state)\n",
      "        #train qnetwork_local\n",
      "        self.qnetwork_local.train()\n",
      "\n",
      "        # Epsilon-greedy action selection\n",
      "        if random.random() > eps:\n",
      "            #Chosse action that maximize\n",
      "            return np.argmax(action_values.cpu().data.numpy())\n",
      "        else:\n",
      "            #otherwise choose random\n",
      "            return random.choice(np.arange(self.action_size))\n",
      "\n",
      "    def learn(self, experiences, gamma):\n",
      "        \"\"\"Update value parameters using given batch of experience tuples.\n",
      "        Params\n",
      "        ======\n",
      "            experiences (Tuple[torch.Tensor]): tuple of (s, a, r, s', done) tuples \n",
      "            gamma (float): discount factor\n",
      "        \"\"\"\n",
      "        states, actions, rewards, next_states, dones = experiences\n",
      "\n",
      "        # Get max predicted Q values (for next states) from target model\n",
      "        Q_targets_next = self.qnetwork_target(next_states).detach().max(1)[0].unsqueeze(1)\n",
      "        # Compute Q targets for current states \n",
      "        Q_targets = rewards + (gamma * Q_targets_next * (1 - dones))\n",
      "\n",
      "        # Get expected Q values from local model\n",
      "        Q_expected = self.qnetwork_local(states).gather(1, actions)\n",
      "\n",
      "        # Compute loss\n",
      "        loss = F.mse_loss(Q_expected, Q_targets)\n",
      "        # Minimize the loss, start on zero grad\n",
      "        self.optimizer.zero_grad()\n",
      "        #implement backprop\n",
      "        loss.backward()\n",
      "        self.optimizer.step()\n",
      "\n",
      "        # ------------------- update target network ------------------- #\n",
      "        self.soft_update(self.qnetwork_local, self.qnetwork_target, TAU)                     \n",
      "\n",
      "    def soft_update(self, local_model, target_model, tau):\n",
      "        \"\"\"Soft update model parameters.\n",
      "        θ_target = τ*θ_local + (1 - τ)*θ_target\n",
      "        Params\n",
      "        ======\n",
      "            local_model (PyTorch model): weights will be copied from\n",
      "            target_model (PyTorch model): weights will be copied to\n",
      "            tau (float): interpolation parameter \n",
      "        \"\"\"\n",
      "        for target_param, local_param in zip(target_model.parameters(), local_model.parameters()):\n",
      "            target_param.data.copy_(tau*local_param.data + (1.0-tau)*target_param.data)\n",
      "\n",
      "\n",
      "class ReplayBuffer:\n",
      "    \"\"\"Fixed-size buffer to store experience tuples.\"\"\"\n",
      "\n",
      "    def __init__(self, action_size, buffer_size, batch_size, seed):\n",
      "        \"\"\"Initialize a ReplayBuffer object.\n",
      "        Params\n",
      "        ======\n",
      "            action_size (int): dimension of each action\n",
      "            buffer_size (int): maximum size of buffer\n",
      "            batch_size (int): size of each training batch\n",
      "            seed (int): random seed\n",
      "        \"\"\"\n",
      "        self.action_size = action_size\n",
      "        #list-like container with fast appends and pops on either end\n",
      "        self.memory = deque(maxlen=buffer_size)  \n",
      "        self.batch_size = batch_size\n",
      "        #use namedtuple\n",
      "        self.experience = namedtuple(\"Experience\", field_names=[\"state\", \"action\", \"reward\", \"next_state\", \"done\"])\n",
      "        self.seed = random.seed(seed)\n",
      "    \n",
      "    def add(self, state, action, reward, next_state, done):\n",
      "        \"\"\"Add a new experience to memory.\"\"\"\n",
      "        e = self.experience(state, action, reward, next_state, done)\n",
      "        self.memory.append(e)\n",
      "    \n",
      "    def sample(self):\n",
      "        \"\"\"Randomly sample a batch of experiences from memory.\"\"\"\n",
      "        experiences = random.sample(self.memory, k=self.batch_size)\n",
      "        #Extracts from neural network structure, states, actions, rewards, next_states and dones\n",
      "        states = torch.from_numpy(np.vstack([e.state for e in experiences if e is not None])).float().to(device)\n",
      "        actions = torch.from_numpy(np.vstack([e.action for e in experiences if e is not None])).long().to(device)\n",
      "        rewards = torch.from_numpy(np.vstack([e.reward for e in experiences if e is not None])).float().to(device)\n",
      "        next_states = torch.from_numpy(np.vstack([e.next_state for e in experiences if e is not None])).float().to(device)\n",
      "        dones = torch.from_numpy(np.vstack([e.done for e in experiences if e is not None]).astype(np.uint8)).float().to(device)\n",
      "  \n",
      "        return (states, actions, rewards, next_states, dones)\n",
      "\n",
      "    def __len__(self):\n",
      "        \"\"\"Return the current size of internal memory.\"\"\"\n",
      "        return len(self.memory)\n"
     ]
    }
   ],
   "source": [
    "! cat dqn.py"
   ]
  },
  {
   "cell_type": "code",
   "execution_count": 7,
   "metadata": {},
   "outputs": [
    {
     "name": "stdout",
     "output_type": "stream",
     "text": [
      "Episode 100\tAverage Score: 0.47\n",
      "Episode 200\tAverage Score: 3.61\n",
      "Episode 300\tAverage Score: 6.91\n",
      "Episode 400\tAverage Score: 7.87\n",
      "Episode 500\tAverage Score: 11.90\n",
      "Episode 600\tAverage Score: 13.14\n",
      "Episode 700\tAverage Score: 14.68\n",
      "Episode 800\tAverage Score: 14.27\n",
      "Episode 900\tAverage Score: 15.26\n",
      "Episode 1000\tAverage Score: 14.31\n",
      "Episode 1100\tAverage Score: 14.73\n",
      "Episode 1200\tAverage Score: 16.05\n",
      "Episode 1300\tAverage Score: 16.22\n",
      "Episode 1400\tAverage Score: 15.49\n",
      "Episode 1500\tAverage Score: 15.95\n",
      "Episode 1600\tAverage Score: 16.33\n",
      "Episode 1700\tAverage Score: 16.45\n",
      "Episode 1800\tAverage Score: 15.99\n",
      "Episode 1900\tAverage Score: 15.28\n",
      "Episode 2000\tAverage Score: 16.15\n"
     ]
    },
    {
     "data": {
      "image/png": "[encoded data removed]",
      "text/plain": [
       "<Figure size 432x288 with 1 Axes>"
      ]
     },
     "metadata": {
      "needs_background": "light"
     },
     "output_type": "display_data"
    }
   ],
   "source": [
    "from dqn import Agent\n",
    "\n",
    "agent = Agent(state_size=37, action_size=4, seed=12)\n",
    "\n",
    "def dqn(n_episodes=2000, max_t=1000, eps_start=1.0, eps_end=0.01, eps_decay=0.995):\n",
    "    \"\"\"Deep Q-Learning.\n",
    "    \n",
    "    Params\n",
    "    ======\n",
    "        n_episodes (int): maximum number of training episodes\n",
    "        max_t (int): maximum number of timesteps per episode\n",
    "        eps_start (float): starting value of epsilon, for epsilon-greedy action selection\n",
    "        eps_end (float): minimum value of epsilon\n",
    "        eps_decay (float): multiplicative factor (per episode) for decreasing epsilon\n",
    "    \"\"\"\n",
    "    #This store scores from each episodes\n",
    "    scores = []\n",
    "    #Check last 100 scores as said finished \n",
    "    scores_window = deque(maxlen=100)  \n",
    "    #How epsilon starts, remeber should start big and gradually decay\n",
    "    eps = eps_start\n",
    "    #Iterate through number of episodes\n",
    "    for i_episode in range(1, n_episodes+1):\n",
    "        #start\n",
    "        env_reset = env.reset(train_mode = True)[brain_name]\n",
    "        #state\n",
    "        state = env_reset.vector_observations[0]\n",
    "        #initialize score to 0\n",
    "        score = 0\n",
    "        #iterate through max number of trainings per episode\n",
    "        for t in range(max_t):\n",
    "            #return action \n",
    "            action = agent.act(state, eps)\n",
    "            #take action\n",
    "            env_reset = env.step(action)[brain_name]\n",
    "            #store state produced by given action\n",
    "            next_state = env_reset.vector_observations[0]\n",
    "            #store reward\n",
    "            reward = env_reset.rewards[0]\n",
    "            #check if done\n",
    "            done = env_reset.local_done[0]\n",
    "            #learn through sampling Replay Buffer\n",
    "            agent.step(state, action, reward, next_state, done)\n",
    "            #Set next_state as state\n",
    "            state = next_state\n",
    "            #Add to score the reward\n",
    "            score += reward\n",
    "            #if done break\n",
    "            if done:\n",
    "                break \n",
    "        scores_window.append(score)       # save most recent score\n",
    "        scores.append(score)              # save most recent score\n",
    "        eps = max(eps_end, eps_decay*eps) # decrease epsilon\n",
    "        print('\\rEpisode {}\\tAverage Score: {:.2f}'.format(i_episode, np.mean(scores_window)), end=\"\")\n",
    "        if i_episode % 100 == 0:\n",
    "            print('\\rEpisode {}\\tAverage Score: {:.2f}'.format(i_episode, np.mean(scores_window)))\n",
    "        if np.mean(scores_window)>=200.0:\n",
    "            print('\\nEnvironment solved in {:d} episodes!\\tAverage Score: {:.2f}'.format(i_episode-100, np.mean(scores_window)))\n",
    "        torch.save(agent.qnetwork_local.state_dict(), 'checkpoint.pth')\n",
    "    return scores\n",
    "\n",
    "scores = dqn()\n",
    "\n",
    "# plot the scores\n",
    "fig = plt.figure()\n",
    "ax = fig.add_subplot(111)\n",
    "plt.plot(np.arange(len(scores)), scores)\n",
    "plt.ylabel('Score')\n",
    "plt.xlabel('Episode #')\n",
    "plt.show()"
   ]
  },
  {
   "cell_type": "markdown",
   "metadata": {},
   "source": [
    "#### It took the agent around 600 episodes to get average reward of +13.\n",
    "However I trained the agent over 2000 episodes to see how it improved."
   ]
  },
  {
   "cell_type": "code",
   "execution_count": 12,
   "metadata": {},
   "outputs": [],
   "source": [
    "from dqn import Agent\n",
    "filename_to_load = 'checkpoint.pth'\n",
    "final_eps = 0.05\n",
    "\n",
    "agent = Agent(state_size=37, action_size=4, seed=12)\n",
    "#load the saved model from previous training\n",
    "agent.qnetwork_local.load_state_dict(torch.load(filename_to_load))"
   ]
  },
  {
   "cell_type": "markdown",
   "metadata": {},
   "source": [
    "## Test trained model"
   ]
  },
  {
   "cell_type": "code",
   "execution_count": 13,
   "metadata": {},
   "outputs": [
    {
     "name": "stdout",
     "output_type": "stream",
     "text": [
      "Your final score is:\n",
      "19.0\n"
     ]
    }
   ],
   "source": [
    "env_info = env.reset(train_mode=False)[brain_name]\n",
    "state = env_info.vector_observations[0]           \n",
    "score = 0                                         \n",
    "while True:\n",
    "    action = agent.act(state, eps=final_eps)      \n",
    "    env_info = env.step(action)[brain_name]       \n",
    "    next_state = env_info.vector_observations[0]  \n",
    "    reward = env_info.rewards[0]                  \n",
    "    done = env_info.local_done[0]                 \n",
    "    score += reward                               \n",
    "    state = next_state                            \n",
    "    if done:\n",
    "        print(\"Your final score is:\")\n",
    "        print(score)\n",
    "        break"
   ]
  },
  {
   "cell_type": "code",
   "execution_count": 14,
   "metadata": {},
   "outputs": [],
   "source": [
    "env.close()"
   ]
  },
  {
   "cell_type": "markdown",
   "metadata": {},
   "source": [
    "## Future Work\n",
    "Future work might include usage of Double Q-Learning, to avoid over-estimation of action values. Another tool we can use is Prioritized experience replay, since we might loss important experience from the past. But also dueling networks that separate state values and state dependant actions, together with Distributional DQN and Noisy DQN. \n",
    "<br>\n",
    "I also found, tunning the the neural netowrk end up in very different results, so, changing the learning rate, or different architecture migh help improving the average score. And throughout the course, changing the epsilon values might help as well. This two improvements might be very time consuming and not returning big scores as expected."
   ]
  }
 ],
 "metadata": {
  "kernelspec": {
   "display_name": "drlnd",
   "language": "python",
   "name": "drlnd"
  },
  "language_info": {
   "codemirror_mode": {
    "name": "ipython",
    "version": 3
   },
   "file_extension": ".py",
   "mimetype": "text/x-python",
   "name": "python",
   "nbconvert_exporter": "python",
   "pygments_lexer": "ipython3",
   "version": "3.6.10"
  }
 },
 "nbformat": 4,
 "nbformat_minor": 4
}
